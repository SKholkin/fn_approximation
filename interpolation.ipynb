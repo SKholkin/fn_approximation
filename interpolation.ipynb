{
 "cells": [
  {
   "cell_type": "code",
   "execution_count": 12,
   "id": "e12431bd",
   "metadata": {},
   "outputs": [],
   "source": [
    "import pandas as pd\n",
    "import numpy as np\n",
    "import matplotlib.pyplot as plt\n",
    "import scipy\n",
    "from scipy.interpolate import interp1d\n",
    "from scipy.optimize import curve_fit\n",
    "from functools import partial\n",
    "from functools import reduce\n",
    "from math import sqrt, pow, log, exp, sin"
   ]
  },
  {
   "cell_type": "code",
   "execution_count": 13,
   "id": "686be4cd",
   "metadata": {},
   "outputs": [],
   "source": [
    "\n",
    "def data_parse(path: str):\n",
    "    data = pd.read_csv(path)\n",
    "    output = []\n",
    "    for i in data.iloc():\n",
    "        output.append((float(i.x), float(i.y)))\n",
    "    return output\n"
   ]
  },
  {
   "cell_type": "code",
   "execution_count": 14,
   "id": "7c2b57f3",
   "metadata": {},
   "outputs": [],
   "source": [
    "data_path='data.csv'\n",
    "data = data_parse(data_path)\n"
   ]
  },
  {
   "cell_type": "code",
   "execution_count": 15,
   "id": "ba4566c0",
   "metadata": {},
   "outputs": [
    {
     "name": "stdout",
     "output_type": "stream",
     "text": [
      "x:0.142 f(x):5.642\n",
      "x:0.494 f(x):4.096\n",
      "x:0.847 f(x):3.39\n",
      "x:1.199 f(x):2.924\n",
      "x:1.5519999999999998 f(x):2.775\n",
      "x:1.9040000000000001 f(x):2.5340000000000003\n",
      "x:2.2569999999999997 f(x):2.418\n",
      "x:2.609 f(x):2.405\n",
      "x:2.9619999999999997 f(x):2.298\n"
     ]
    }
   ],
   "source": [
    "for item in data:\n",
    "    print(f'x:{item[0]} f(x):{item[1]}')"
   ]
  },
  {
   "cell_type": "code",
   "execution_count": 16,
   "id": "ddd91f39",
   "metadata": {},
   "outputs": [],
   "source": [
    "def mse(x1, x2):\n",
    "    return sqrt(reduce(lambda x, y: x + (y[0] - y[1]) * (y[0] - y[1]), zip(x1, x2), 0))"
   ]
  },
  {
   "cell_type": "markdown",
   "id": "aae74ba6",
   "metadata": {},
   "source": [
    "# Data points"
   ]
  },
  {
   "cell_type": "code",
   "execution_count": 17,
   "id": "5b5065db",
   "metadata": {},
   "outputs": [
    {
     "data": {
      "image/png": "[encoded data removed]",
      "text/plain": [
       "<Figure size 432x288 with 1 Axes>"
      ]
     },
     "metadata": {
      "needs_background": "light"
     },
     "output_type": "display_data"
    }
   ],
   "source": [
    "\n",
    "plt.scatter([item[0] for item in data], [item[1] for item in data])\n",
    "plt.show()"
   ]
  },
  {
   "cell_type": "markdown",
   "id": "2a8ebe63",
   "metadata": {},
   "source": [
    "## Interpolation funcs"
   ]
  },
  {
   "cell_type": "code",
   "execution_count": 18,
   "id": "539d1e34",
   "metadata": {},
   "outputs": [],
   "source": [
    "\n",
    "def interpolate_lagrange(data: list):\n",
    "    poly_size = len(data)\n",
    "    denominator = [1 for i in range(poly_size)]\n",
    "    for i in range(poly_size):\n",
    "        for j in range(poly_size):\n",
    "            denominator[i] *= data[i][0] - data[j][0] if not i == j else 1\n",
    "\n",
    "    def fn(x):\n",
    "        output = 0\n",
    "        for i in range(poly_size):\n",
    "            numerator = 1\n",
    "            for j in range(poly_size):\n",
    "                numerator *= x - data[j][0] if not i == j else 1\n",
    "            output += data[i][1] * (numerator) / denominator[i]\n",
    "        return output\n",
    "    return fn"
   ]
  },
  {
   "cell_type": "code",
   "execution_count": 19,
   "id": "0a70f702",
   "metadata": {},
   "outputs": [],
   "source": [
    "\n",
    "def devided_diff(data_points):\n",
    "    if len(data_points) == 1:\n",
    "        return data_points[0][1]\n",
    "    return (devided_diff(data_points[1:]) - devided_diff(data_points[:-1])) / (data_points[-1][0] - data_points[0][0])\n",
    "\n",
    "def interpolate_newton(data: list):\n",
    "    devided_diffs = []\n",
    "    for i in range(len(data)):\n",
    "        devided_diffs.append(devided_diff(data[:(i + 1)]))\n",
    "    def fn(x):\n",
    "        result = 0\n",
    "        for i in range(len(data)):\n",
    "            part = 1\n",
    "            for j in range(len(data) - 1):\n",
    "                part *= (x - data[j][0])\n",
    "            result += part * devided_diffs[i]\n",
    "        return result\n",
    "    return fn\n"
   ]
  },
  {
   "cell_type": "code",
   "execution_count": 20,
   "id": "fc439e9f",
   "metadata": {},
   "outputs": [],
   "source": [
    "\n",
    "def scipy_interpolation_fn_shell(kind='linear'):\n",
    "    def build_fn(data: list):\n",
    "        x = [item[0] for item in data]\n",
    "        y = [item[1] for item in data]\n",
    "        return interp1d(x, y, kind=kind)\n",
    "    return build_fn\n"
   ]
  },
  {
   "cell_type": "markdown",
   "id": "ec8e8400",
   "metadata": {},
   "source": [
    "## Approximation funcs"
   ]
  },
  {
   "cell_type": "code",
   "execution_count": 21,
   "id": "5c55fa5a",
   "metadata": {},
   "outputs": [],
   "source": [
    "def scipy_approximation_fn_shell(f):\n",
    "    def build_fn(data: list):\n",
    "        x = [item[0] for item in data]\n",
    "        y = [item[1] for item in data]\n",
    "        coef, coef_cov = curve_fit(f, x, y)\n",
    "        print(f'coef {coef}')\n",
    "        def result_fn(x):\n",
    "            return f(x, *coef)\n",
    "        return result_fn\n",
    "    return build_fn"
   ]
  },
  {
   "cell_type": "markdown",
   "id": "92d5b064",
   "metadata": {},
   "source": [
    "## Coefs from functions system"
   ]
  },
  {
   "cell_type": "code",
   "execution_count": 92,
   "id": "873d0004",
   "metadata": {},
   "outputs": [],
   "source": [
    "def from_fn_basis(fn_basis, *args):\n",
    "    return lambda x: reduce(lambda x1, i: x1 + args[i] * fn_basis[i](x), range(len(fn_basis)), 0)\n"
   ]
  },
  {
   "cell_type": "code",
   "execution_count": 93,
   "id": "1f326254",
   "metadata": {},
   "outputs": [],
   "source": [
    "def get_coef(fn_basis, data):\n",
    "    #Ax = b\n",
    "    x_data = [item[0] for item in data]\n",
    "    y_data = [item[1] for item in data]\n",
    "    A = np.zeros((len(fn_basis), len(fn_basis)), dtype=float)\n",
    "    b = np.zeros((len(fn_basis)), dtype=float)\n",
    "    for i in range(len(fn_basis)):\n",
    "        for j in range(len(fn_basis)):\n",
    "            sum = 0\n",
    "            for k in range(len(x_data)):\n",
    "                sum += fn_basis[i](x_data[k]) * fn_basis[j](x_data[k])\n",
    "            A[i, j] = sum\n",
    "    for i in range(len(fn_basis)):\n",
    "        sum = 0\n",
    "        for k in range(len(x_data)):\n",
    "            sum += fn_basis[i](x_data[k]) * y_data[k]\n",
    "        b[i] = sum\n",
    "    result = np.linalg.solve(A, b)\n",
    "    return result\n"
   ]
  },
  {
   "cell_type": "markdown",
   "id": "6010a65d",
   "metadata": {},
   "source": [
    "## Interpolation script"
   ]
  },
  {
   "cell_type": "code",
   "execution_count": 22,
   "id": "45b576ea",
   "metadata": {},
   "outputs": [],
   "source": [
    "build_fn = scipy_interpolation_fn_shell(kind='cubic')"
   ]
  },
  {
   "cell_type": "code",
   "execution_count": 23,
   "id": "2db4b9de",
   "metadata": {},
   "outputs": [
    {
     "data": {
      "image/png": "[encoded data removed]",
      "text/plain": [
       "<Figure size 432x288 with 1 Axes>"
      ]
     },
     "metadata": {
      "needs_background": "light"
     },
     "output_type": "display_data"
    }
   ],
   "source": [
    "eps = 1e-6\n",
    "interpolate_fn = build_fn(data)\n",
    "start = min(data, key=lambda x: x[0])[0] + eps\n",
    "stop = max(data, key=lambda x: x[0])[0] - eps\n",
    "plt.plot(np.arange(start, stop, 0.01), [interpolate_fn(x) for x in np.arange(start, stop, 0.01)])\n",
    "plt.ylim([-2, 2])\n",
    "plt.show()"
   ]
  },
  {
   "cell_type": "markdown",
   "id": "fcefdd21",
   "metadata": {},
   "source": [
    "## test data points"
   ]
  },
  {
   "cell_type": "code",
   "execution_count": 24,
   "id": "d62f5992",
   "metadata": {},
   "outputs": [
    {
     "name": "stdout",
     "output_type": "stream",
     "text": [
      "a x:0.636 f(x):3.757451045365028\n",
      "b x:0.318 f(x):4.711742823267339\n",
      "c x:1.3755 f(x):2.835690085696062\n",
      "d x:0.5646666666666665 f(x):3.9138127914596583\n"
     ]
    },
    {
     "data": {
      "image/png": "[encoded data removed]",
      "text/plain": [
       "<Figure size 432x288 with 1 Axes>"
      ]
     },
     "metadata": {
      "needs_background": "light"
     },
     "output_type": "display_data"
    }
   ],
   "source": [
    "test_data_x = [data[0][0] + data[1][0], (data[0][0] + data[1][0]) / 2, (data[3][0] + data[4][0]) / 2, (data[0][0] + data[4][0]) / 3]\n",
    "test_data_y = [interpolate_fn(x) for x in test_data_x]\n",
    "symbols = ['a', 'b', 'c', 'd']\n",
    "for i in range(len(test_data_x)):\n",
    "    print(f'{symbols[i]} x:{test_data_x[i]} f(x):{test_data_y[i]}')\n",
    "plt.scatter(test_data_x, test_data_y)\n",
    "plt.show()"
   ]
  },
  {
   "cell_type": "code",
   "execution_count": 25,
   "id": "9efce565",
   "metadata": {},
   "outputs": [
    {
     "data": {
      "image/png": "[encoded data removed]",
      "text/plain": [
       "<Figure size 432x288 with 1 Axes>"
      ]
     },
     "metadata": {
      "needs_background": "light"
     },
     "output_type": "display_data"
    }
   ],
   "source": [
    "funcs = {'lagrange': interpolate_lagrange,'newton':interpolate_newton,\n",
    "         'scipy_linear': scipy_interpolation_fn_shell(kind='linear'),'scipy_cubic': scipy_interpolation_fn_shell(kind='cubic')}\n",
    "colors = iter(['b', 'g', 'r', 'c', 'm'])\n",
    "fig, ax = plt.subplots()\n",
    "for key, item in funcs.items():\n",
    "    interpolate_fn = item(data)\n",
    "    start = min(data, key=lambda x: x[0])[0] + eps\n",
    "    stop = max(data, key=lambda x: x[0])[0] - eps\n",
    "    ax.plot(np.arange(start, stop, 0.01), [interpolate_fn(x) for x in np.arange(start, stop, 0.01)], color=next(colors), label=key)\n",
    "\n",
    "legend = ax.legend(loc='lower center', shadow=True, fontsize='medium')\n",
    "plt.show()"
   ]
  },
  {
   "cell_type": "markdown",
   "id": "8b8939ce",
   "metadata": {},
   "source": [
    "## Approximation scripts"
   ]
  },
  {
   "cell_type": "code",
   "execution_count": 107,
   "id": "855ecf94",
   "metadata": {},
   "outputs": [],
   "source": [
    "to_fit_fns = [\n",
    "    lambda x, a, b, c: a * x * x + b * x + c, \n",
    "    lambda x, a, b, c: a / (x * x) + b / x + c, \n",
    "    lambda x, a, b, c: b * np.power(x, a) + c, \n",
    "    lambda x, a, b, c: b * np.exp(a * x) + c, \n",
    "    lambda x, a, b, c: b / (x + a) + c, \n",
    "    lambda x, a, b, c: a * x + b * np.exp(-x) + c, \n",
    "    lambda x, a, b, c: a / x + b * np.exp(x) + c, \n",
    "    lambda x, a, b, c: a * np.log(x) + b * np.exp(x) + c, \n",
    "    lambda x, a, b, c: b * np.exp(-a * (x + c) * (x + c)) + c,\n",
    "    lambda x, a, b, c: a * np.sqrt(x) + b * np.sin(x) + c]\n",
    "fn_basis_list = [[lambda x: x * x, lambda x: x, lambda x: 1],\n",
    "                 [lambda x: np.sqrt(x), lambda x: np.sin(x), lambda x: 1],\n",
    "                [lambda x: np.log(x), lambda x: exp(x), lambda x: 1]]"
   ]
  },
  {
   "cell_type": "code",
   "execution_count": 111,
   "id": "732e62e8",
   "metadata": {},
   "outputs": [
    {
     "name": "stdout",
     "output_type": "stream",
     "text": [
      "Function 10\n",
      "coef [-1.25935501  0.0299682   3.13904909]\n"
     ]
    }
   ],
   "source": [
    "build_fn = scipy_approximation_fn_shell(to_fit_fns[7])\n",
    "print('Function 10')\n",
    "approx_fn = build_fn(data)"
   ]
  },
  {
   "cell_type": "code",
   "execution_count": 109,
   "id": "ef2fe549",
   "metadata": {},
   "outputs": [
    {
     "name": "stdout",
     "output_type": "stream",
     "text": [
      "coef [-1.25935501  0.0299682   3.13904909]\n"
     ]
    }
   ],
   "source": [
    "coefs = get_coef(fn_basis_list[2], data)\n",
    "print(f'coef {coefs}')\n",
    "approx_fn = from_fn_basis(fn_basis_list[2], *coefs)"
   ]
  },
  {
   "cell_type": "markdown",
   "id": "afb1eb4a",
   "metadata": {},
   "source": [
    "## Plot approximation"
   ]
  },
  {
   "cell_type": "code",
   "execution_count": 110,
   "id": "78d5a133",
   "metadata": {},
   "outputs": [
    {
     "name": "stdout",
     "output_type": "stream",
     "text": [
      "MSE: 0.13615809848876434\n"
     ]
    },
    {
     "data": {
      "image/png": "[encoded data removed]",
      "text/plain": [
       "<Figure size 432x288 with 1 Axes>"
      ]
     },
     "metadata": {
      "needs_background": "light"
     },
     "output_type": "display_data"
    }
   ],
   "source": [
    "plt.scatter([item[0] for item in data], [item[1] for item in data])\n",
    "start = min(data, key=lambda x: x[0])[0] + eps\n",
    "stop = max(data, key=lambda x: x[0])[0] - eps\n",
    "plt.plot(np.arange(start, stop, 0.01), [approx_fn(x) for x in np.arange(start, stop, 0.01)])\n",
    "print(f'MSE: {mse([item[1] for item in data], [approx_fn(item[0]) for item in data])}')\n",
    "plt.show()"
   ]
  },
  {
   "cell_type": "code",
   "execution_count": null,
   "id": "831a4015",
   "metadata": {},
   "outputs": [],
   "source": []
  }
 ],
 "metadata": {
  "kernelspec": {
   "display_name": "Python 3",
   "language": "python",
   "name": "python3"
  },
  "language_info": {
   "codemirror_mode": {
    "name": "ipython",
    "version": 3
   },
   "file_extension": ".py",
   "mimetype": "text/x-python",
   "name": "python",
   "nbconvert_exporter": "python",
   "pygments_lexer": "ipython3",
   "version": "3.6.8"
  }
 },
 "nbformat": 4,
 "nbformat_minor": 5
}
